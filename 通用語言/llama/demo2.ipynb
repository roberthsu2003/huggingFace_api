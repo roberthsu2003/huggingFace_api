{
  "cells": [
    {
      "cell_type": "markdown",
      "metadata": {
        "id": "view-in-github",
        "colab_type": "text"
      },
      "source": [
        "<a href=\"https://colab.research.google.com/github/roberthsu2003/huggingFace_api/blob/main/%E9%80%9A%E7%94%A8%E8%AA%9E%E8%A8%80/llama/demo2.ipynb\" target=\"_parent\"><img src=\"https://colab.research.google.com/assets/colab-badge.svg\" alt=\"Open In Colab\"/></a>"
      ]
    },
    {
      "cell_type": "markdown",
      "source": [
        "### 可以使用CPU執行"
      ],
      "metadata": {
        "id": "4Xp-AMTnal0r"
      },
      "id": "4Xp-AMTnal0r"
    },
    {
      "cell_type": "code",
      "execution_count": null,
      "id": "2cb6cd7c",
      "metadata": {
        "id": "2cb6cd7c"
      },
      "outputs": [],
      "source": [
        "%%capture\n",
        "%pip install -U transformers accelerate"
      ]
    },
    {
      "cell_type": "code",
      "source": [
        "from huggingface_hub import login\n",
        "from google.colab import userdata\n",
        "\n",
        "# 使用環境變數中的token進行登入\n",
        "login(userdata.get('huggingface_token'))"
      ],
      "metadata": {
        "id": "hwVvQKL5W_h7"
      },
      "id": "hwVvQKL5W_h7",
      "execution_count": null,
      "outputs": []
    },
    {
      "cell_type": "code",
      "execution_count": null,
      "id": "8c211648",
      "metadata": {
        "id": "8c211648"
      },
      "outputs": [],
      "source": [
        "from transformers import AutoTokenizer, AutoModelForCausalLM, pipeline, TextStreamer\n",
        "import torch\n",
        "\n",
        "\n",
        "base_model = \"meta-llama/Llama-3.2-3B-Instruct\"\n",
        "\n",
        "tokenizer = AutoTokenizer.from_pretrained(base_model)\n",
        "\n",
        "model = AutoModelForCausalLM.from_pretrained(\n",
        "    base_model,\n",
        "    return_dict=True,\n",
        "    low_cpu_mem_usage=True,\n",
        "    torch_dtype=torch.float16,\n",
        "    device_map=\"auto\",\n",
        "    trust_remote_code=True,\n",
        ")\n"
      ]
    },
    {
      "cell_type": "code",
      "execution_count": null,
      "id": "f0bfc3dc",
      "metadata": {
        "id": "f0bfc3dc"
      },
      "outputs": [],
      "source": [
        "# Set pad_token_id if not already set\n",
        "if tokenizer.pad_token_id is None:\n",
        "    tokenizer.pad_token_id = tokenizer.eos_token_id\n",
        "if model.config.pad_token_id is None:\n",
        "    model.config.pad_token_id = model.config.eos_token_id"
      ]
    },
    {
      "cell_type": "code",
      "execution_count": null,
      "id": "670242fd",
      "metadata": {
        "id": "670242fd"
      },
      "outputs": [],
      "source": [
        "pipe = pipeline(\n",
        "    \"text-generation\",\n",
        "    model=model,\n",
        "    tokenizer=tokenizer,\n",
        "    torch_dtype=torch.float16,\n",
        "    device_map=\"auto\",\n",
        ")"
      ]
    },
    {
      "cell_type": "code",
      "execution_count": null,
      "id": "76c88fda",
      "metadata": {
        "id": "76c88fda"
      },
      "outputs": [],
      "source": [
        "messages = [{\"role\": \"user\", \"content\": \"請介紹台灣的101大樓?\"}]\n",
        "\n",
        "prompt = tokenizer.apply_chat_template(\n",
        "    messages, tokenize=False, add_generation_prompt=True\n",
        ")\n",
        "\n",
        "outputs = pipe(prompt, max_new_tokens=120, do_sample=True)\n",
        "\n",
        "print(outputs[0][\"generated_text\"])\n"
      ]
    },
    {
      "cell_type": "code",
      "execution_count": null,
      "id": "8e83000f",
      "metadata": {
        "id": "8e83000f"
      },
      "outputs": [],
      "source": [
        "from IPython.display import Markdown, display\n",
        "\n",
        "messages = [\n",
        "    {\n",
        "        \"role\": \"system\",\n",
        "        \"content\": \"您是一位熟練的 Python 開發人員，專門從事資料庫管理和最佳化。\",\n",
        "    },\n",
        "    {\n",
        "        \"role\": \"user\",\n",
        "        \"content\": \"我的資料庫遇到了排序問題。您能提供 Python 程式碼來幫助解決這個問題嗎？\",\n",
        "    },\n",
        "]\n",
        "\n",
        "prompt = tokenizer.apply_chat_template(\n",
        "    messages, tokenize=False, add_generation_prompt=True\n",
        ")\n",
        "\n",
        "outputs = pipe(prompt, max_new_tokens=512, do_sample=True)\n",
        "\n",
        "display(\n",
        "    Markdown(\n",
        "            outputs[0][\"generated_text\"].split(\n",
        "                \"<|start_header_id|>assistant<|end_header_id|>\"\n",
        "            )[1]\n",
        "        )\n",
        "    )\n"
      ]
    }
  ],
  "metadata": {
    "kernelspec": {
      "display_name": "base",
      "language": "python",
      "name": "python3"
    },
    "language_info": {
      "codemirror_mode": {
        "name": "ipython",
        "version": 3
      },
      "file_extension": ".py",
      "mimetype": "text/x-python",
      "name": "python",
      "nbconvert_exporter": "python",
      "pygments_lexer": "ipython3",
      "version": "3.12.2"
    },
    "colab": {
      "provenance": [],
      "include_colab_link": true
    }
  },
  "nbformat": 4,
  "nbformat_minor": 5
}