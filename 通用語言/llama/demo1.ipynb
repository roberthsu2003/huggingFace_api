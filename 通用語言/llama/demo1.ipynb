{
  "cells": [
    {
      "cell_type": "markdown",
      "metadata": {
        "id": "view-in-github",
        "colab_type": "text"
      },
      "source": [
        "<a href=\"https://colab.research.google.com/github/roberthsu2003/huggingFace_api/blob/main/%E9%80%9A%E7%94%A8%E8%AA%9E%E8%A8%80/llama/demo1.ipynb\" target=\"_parent\"><img src=\"https://colab.research.google.com/assets/colab-badge.svg\" alt=\"Open In Colab\"/></a>"
      ]
    },
    {
      "cell_type": "markdown",
      "source": [
        "## 這專案會用到超過12GB以上的記憶體\n",
        "- colab cpu專案只有提供12GB的記憶體\n",
        "- 使用L4-GPU,L4 GPU 的RAM提供53GB的使用"
      ],
      "metadata": {
        "id": "224vGlR2NIZ7"
      },
      "id": "224vGlR2NIZ7"
    },
    {
      "cell_type": "code",
      "execution_count": null,
      "id": "d38ef26c",
      "metadata": {
        "id": "d38ef26c"
      },
      "outputs": [],
      "source": [
        "from huggingface_hub import login\n",
        "from google.colab import userdata\n",
        "\n",
        "# 使用環境變數中的token進行登入\n",
        "login(userdata.get('huggingface_token'))"
      ]
    },
    {
      "cell_type": "code",
      "execution_count": null,
      "id": "2a7f06ae",
      "metadata": {
        "id": "2a7f06ae"
      },
      "outputs": [],
      "source": [
        "# Use a pipeline as a high-level helper\n",
        "from transformers import pipeline\n",
        "\n",
        "pipe = pipeline(\"text-generation\", model=\"meta-llama/Llama-3.2-3B-Instruct\")\n"
      ]
    },
    {
      "cell_type": "code",
      "execution_count": null,
      "id": "mJSsFrae_mE9",
      "metadata": {
        "id": "mJSsFrae_mE9"
      },
      "outputs": [],
      "source": [
        "messages = [\n",
        "    {\"role\":\"user\", \"content\":\"請介紹一下您自已\"},\n",
        "]\n",
        "result = pipe(messages)\n",
        "print(result[0]['generated_text'][1]['content'])\n",
        "#====\n",
        "#我是機器人assistant，名為「LLaMA」。我是一種人工"
      ]
    }
  ],
  "metadata": {
    "accelerator": "GPU",
    "colab": {
      "gpuType": "L4",
      "provenance": [],
      "include_colab_link": true
    },
    "kernelspec": {
      "display_name": "Python 3",
      "name": "python3"
    },
    "language_info": {
      "codemirror_mode": {
        "name": "ipython",
        "version": 3
      },
      "file_extension": ".py",
      "mimetype": "text/x-python",
      "name": "python",
      "nbconvert_exporter": "python",
      "pygments_lexer": "ipython3",
      "version": "3.12.2"
    }
  },
  "nbformat": 4,
  "nbformat_minor": 5
}