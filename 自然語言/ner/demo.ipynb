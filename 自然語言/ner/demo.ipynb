{
 "cells": [
  {
   "cell_type": "code",
   "execution_count": 8,
   "metadata": {},
   "outputs": [
    {
     "data": {
      "application/vnd.jupyter.widget-view+json": {
       "model_id": "74b643ea9c9d44619d87402e34d6f819",
       "version_major": 2,
       "version_minor": 0
      },
      "text/plain": [
       "tokenizer_config.json:   0%|          | 0.00/301 [00:00<?, ?B/s]"
      ]
     },
     "metadata": {},
     "output_type": "display_data"
    },
    {
     "data": {
      "application/vnd.jupyter.widget-view+json": {
       "model_id": "fa981906e93e4b03a9933e009b81385e",
       "version_major": 2,
       "version_minor": 0
      },
      "text/plain": [
       "vocab.txt:   0%|          | 0.00/110k [00:00<?, ?B/s]"
      ]
     },
     "metadata": {},
     "output_type": "display_data"
    },
    {
     "data": {
      "application/vnd.jupyter.widget-view+json": {
       "model_id": "5318cbbc18ad42c8a421075bef4394f9",
       "version_major": 2,
       "version_minor": 0
      },
      "text/plain": [
       "special_tokens_map.json:   0%|          | 0.00/112 [00:00<?, ?B/s]"
      ]
     },
     "metadata": {},
     "output_type": "display_data"
    },
    {
     "name": "stderr",
     "output_type": "stream",
     "text": [
      "Device set to use cpu\n"
     ]
    },
    {
     "data": {
      "text/plain": [
       "[{'entity_group': 'PERSON',\n",
       "  'score': np.float32(0.9999996),\n",
       "  'word': '徐 國',\n",
       "  'start': 0,\n",
       "  'end': 2},\n",
       " {'entity_group': 'PERSON',\n",
       "  'score': np.float32(0.9999995),\n",
       "  'word': '堂',\n",
       "  'start': 2,\n",
       "  'end': 3},\n",
       " {'entity_group': 'GPE',\n",
       "  'score': np.float32(0.99999917),\n",
       "  'word': '台',\n",
       "  'start': 4,\n",
       "  'end': 5},\n",
       " {'entity_group': 'GPE',\n",
       "  'score': np.float32(0.9999995),\n",
       "  'word': '北',\n",
       "  'start': 5,\n",
       "  'end': 6}]"
      ]
     },
     "execution_count": 8,
     "metadata": {},
     "output_type": "execute_result"
    }
   ],
   "source": [
    "from transformers import pipeline\n",
    "ner_pipe = pipeline(\"token-classification\", model='ckiplab/bert-base-chinese-ner',aggregation_strategy=\"simple\")\n",
    "inputs = \"徐國堂在台北上班\" \n",
    "res = ner_pipe(inputs)\n",
    "res"
   ]
  },
  {
   "cell_type": "code",
   "execution_count": 18,
   "metadata": {},
   "outputs": [
    {
     "name": "stderr",
     "output_type": "stream",
     "text": [
      "Device set to use cpu\n"
     ]
    },
    {
     "name": "stdout",
     "output_type": "stream",
     "text": [
      "Entity: 傅達仁, Type: PERSON, Scores: [0.9999995231628418, 0.9999995231628418]\n",
      "Entity: 今, Type: DATE, Scores: [0.9991734623908997]\n",
      "Entity: 20年, Type: DATE, Scores: [0.9999994039535522, 0.9999892711639404]\n",
      "Entity: 緯來體育台, Type: ORG, Scores: [0.9999988079071045, 0.9999990463256836]\n"
     ]
    }
   ],
   "source": [
    "from transformers import pipeline\n",
    "import numpy as np\n",
    "\n",
    "ner_pipe = pipeline(\"token-classification\", model='ckiplab/bert-base-chinese-ner', aggregation_strategy=\"simple\")\n",
    "\n",
    "inputs = \"傅達仁今將執行安樂死，卻突然爆出自己20年前遭緯來體育台封殺，他不懂自己哪裡得罪到電視台。\"\n",
    "res = ner_pipe(inputs)\n",
    "\n",
    "grouped_entities = []\n",
    "current_group = None\n",
    "\n",
    "for entity in res:\n",
    "    if current_group is None:\n",
    "        current_group = {\n",
    "            'entity_group': entity['entity_group'],\n",
    "            'word': entity['word'].replace(' ', ''),  # Remove spaces here\n",
    "            'start': entity['start'],\n",
    "            'end': entity['end'],\n",
    "            'scores': [entity['score'].item()]\n",
    "        }\n",
    "    elif entity['entity_group'] == current_group['entity_group'] and entity['start'] == current_group['end']:\n",
    "        current_group['word'] += entity['word'].replace(' ', '')  # Remove spaces here\n",
    "        current_group['end'] = entity['end']\n",
    "        current_group['scores'].append(entity['score'].item())\n",
    "    else:\n",
    "        grouped_entities.append(current_group)\n",
    "        current_group = {\n",
    "            'entity_group': entity['entity_group'],\n",
    "            'word': entity['word'].replace(' ', ''),  # Remove spaces here\n",
    "            'start': entity['start'],\n",
    "            'end': entity['end'],\n",
    "            'scores': [entity['score'].item()]\n",
    "        }\n",
    "\n",
    "if current_group:\n",
    "    grouped_entities.append(current_group)\n",
    "\n",
    "for entity in grouped_entities:\n",
    "    print(f\"Entity: {entity['word']}, Type: {entity['entity_group']}, Scores: {entity['scores']}\")\n",
    "\n"
   ]
  }
 ],
 "metadata": {
  "kernelspec": {
   "display_name": "base",
   "language": "python",
   "name": "python3"
  },
  "language_info": {
   "codemirror_mode": {
    "name": "ipython",
    "version": 3
   },
   "file_extension": ".py",
   "mimetype": "text/x-python",
   "name": "python",
   "nbconvert_exporter": "python",
   "pygments_lexer": "ipython3",
   "version": "3.12.8"
  }
 },
 "nbformat": 4,
 "nbformat_minor": 2
}
