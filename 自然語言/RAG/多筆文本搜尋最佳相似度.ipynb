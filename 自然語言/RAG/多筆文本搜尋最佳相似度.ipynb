{
 "cells": [
  {
   "cell_type": "markdown",
   "id": "d099b5d5",
   "metadata": {},
   "source": [
    "- 使用dataset(roberthsu2003/data_for_RAG)\n",
    "- 使用模型(使用Microsoft開源的intfloat/multilingual-e5-large)\n",
    "- 模型大約要2.24GB"
   ]
  },
  {
   "cell_type": "code",
   "execution_count": null,
   "id": "961bc96c",
   "metadata": {},
   "outputs": [],
   "source": [
    "import torch\n",
    "from transformers import AutoTokenizer, AutoModel\n",
    "\n",
    "class DocumentSearch:\n",
    "    def __init__(self):\n",
    "        self.tokenizer = Auto"
   ]
  }
 ],
 "metadata": {
  "kernelspec": {
   "display_name": "base",
   "language": "python",
   "name": "python3"
  },
  "language_info": {
   "name": "python",
   "version": "3.12.2"
  }
 },
 "nbformat": 4,
 "nbformat_minor": 5
}
