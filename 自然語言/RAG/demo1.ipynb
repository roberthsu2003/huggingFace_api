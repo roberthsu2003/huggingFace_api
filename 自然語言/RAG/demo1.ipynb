{
 "cells": [
  {
   "cell_type": "markdown",
   "id": "28735089",
   "metadata": {},
   "source": [
    "### 檢索增強生成\n",
    "- 使用dataset(roberthsu2003/data_for_RAG)\n",
    "- 使用模型(使用Microsoft開源的intfloat/multilingual-e5-large)"
   ]
  }
 ],
 "metadata": {
  "kernelspec": {
   "display_name": "base",
   "language": "python",
   "name": "python3"
  },
  "language_info": {
   "name": "python",
   "version": "3.12.2"
  }
 },
 "nbformat": 4,
 "nbformat_minor": 5
}
