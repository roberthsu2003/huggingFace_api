{
 "cells": [
  {
   "cell_type": "markdown",
   "id": "9cbce908",
   "metadata": {},
   "source": [
    "**測試**\n",
    "`蘆洲三民場`,`我想要找蘆洲三民場充電樁`\n"
   ]
  },
  {
   "cell_type": "code",
   "execution_count": 1,
   "id": "69570073",
   "metadata": {},
   "outputs": [],
   "source": [
    "from transformers import AutoTokenizer, AutoModel\n",
    "import torch\n",
    "from sklearn.metrics.pairwise import cosine_similarity"
   ]
  },
  {
   "cell_type": "code",
   "execution_count": 3,
   "id": "7469c4e8",
   "metadata": {},
   "outputs": [],
   "source": [
    "model_name = \"intfloat/multilingual-e5-large\"\n",
    "tokenizer = AutoTokenizer.from_pretrained(model_name)\n",
    "model = AutoModel.from_pretrained(model_name)"
   ]
  },
  {
   "cell_type": "code",
   "execution_count": 8,
   "id": "a2905dbd",
   "metadata": {},
   "outputs": [
    {
     "name": "stdout",
     "output_type": "stream",
     "text": [
      "相似度: 0.899268\n"
     ]
    }
   ],
   "source": [
    "#輸入兩2句子\n",
    "sentences = [\"蘆洲三民場\", \"我想要到蘆洲三民場充電場\"]\n",
    "tokenized = tokenizer(sentences, padding=True, truncation=True, return_tensors = \"pt\")\n",
    "\n",
    "#計算嵌入\n",
    "with torch.no_grad():\n",
    "    outputs = model(**tokenized)\n",
    "#提取句子嵌入(取平均)\n",
    "sentence_embeddings = outputs.last_hidden_state.mean(dim=1)\n",
    "\n",
    "#計算餘弦相似度\n",
    "similarity = cosine_similarity(sentence_embeddings[0].unsqueeze(0), sentence_embeddings[1].unsqueeze(0))\n",
    "print(\"相似度:\",similarity[0][0])"
   ]
  }
 ],
 "metadata": {
  "kernelspec": {
   "display_name": "base",
   "language": "python",
   "name": "python3"
  },
  "language_info": {
   "codemirror_mode": {
    "name": "ipython",
    "version": 3
   },
   "file_extension": ".py",
   "mimetype": "text/x-python",
   "name": "python",
   "nbconvert_exporter": "python",
   "pygments_lexer": "ipython3",
   "version": "3.12.2"
  }
 },
 "nbformat": 4,
 "nbformat_minor": 5
}
