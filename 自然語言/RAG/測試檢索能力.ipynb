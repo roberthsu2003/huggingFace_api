{
  "cells": [
    {
      "cell_type": "markdown",
      "metadata": {
        "id": "view-in-github",
        "colab_type": "text"
      },
      "source": [
        "<a href=\"https://colab.research.google.com/github/roberthsu2003/huggingFace_api/blob/main/%E8%87%AA%E7%84%B6%E8%AA%9E%E8%A8%80/RAG/%E6%B8%AC%E8%A9%A6%E6%AA%A2%E7%B4%A2%E8%83%BD%E5%8A%9B.ipynb\" target=\"_parent\"><img src=\"https://colab.research.google.com/assets/colab-badge.svg\" alt=\"Open In Colab\"/></a>"
      ]
    },
    {
      "cell_type": "markdown",
      "id": "9cbce908",
      "metadata": {
        "id": "9cbce908"
      },
      "source": [
        "**測試**\n",
        "`蘆洲三民場`,`我想要找蘆洲三民場充電樁`\n"
      ]
    },
    {
      "cell_type": "code",
      "execution_count": null,
      "id": "69570073",
      "metadata": {
        "id": "69570073"
      },
      "outputs": [],
      "source": [
        "from transformers import AutoTokenizer, AutoModel\n",
        "import torch\n",
        "from sklearn.metrics.pairwise import cosine_similarity"
      ]
    },
    {
      "cell_type": "code",
      "execution_count": null,
      "id": "7469c4e8",
      "metadata": {
        "id": "7469c4e8"
      },
      "outputs": [],
      "source": [
        "model_name = \"intfloat/multilingual-e5-large\"\n",
        "tokenizer = AutoTokenizer.from_pretrained(model_name)\n",
        "model = AutoModel.from_pretrained(model_name)"
      ]
    },
    {
      "cell_type": "code",
      "execution_count": null,
      "id": "a2905dbd",
      "metadata": {
        "id": "a2905dbd"
      },
      "outputs": [],
      "source": [
        "#輸入兩2句子\n",
        "sentences = [\"蘆洲三民場\", \"我想要到蘆洲三民場充電場\"]\n",
        "tokenized = tokenizer(sentences, padding=True, truncation=True, return_tensors = \"pt\")\n",
        "\n",
        "#計算嵌入\n",
        "with torch.no_grad():\n",
        "    outputs = model(**tokenized)\n",
        "#提取句子嵌入(取平均)\n",
        "sentence_embeddings = outputs.last_hidden_state.mean(dim=1)\n",
        "\n",
        "#計算餘弦相似度\n",
        "similarity = cosine_similarity(sentence_embeddings[0].unsqueeze(0), sentence_embeddings[1].unsqueeze(0))\n",
        "print(\"相似度:\",similarity[0][0])"
      ]
    }
  ],
  "metadata": {
    "kernelspec": {
      "display_name": "base",
      "language": "python",
      "name": "python3"
    },
    "language_info": {
      "codemirror_mode": {
        "name": "ipython",
        "version": 3
      },
      "file_extension": ".py",
      "mimetype": "text/x-python",
      "name": "python",
      "nbconvert_exporter": "python",
      "pygments_lexer": "ipython3",
      "version": "3.12.2"
    },
    "colab": {
      "provenance": [],
      "include_colab_link": true
    }
  },
  "nbformat": 4,
  "nbformat_minor": 5
}