{
 "cells": [
  {
   "cell_type": "markdown",
   "id": "dfcbd804",
   "metadata": {},
   "source": [
    "- 使用dataset(roberthsu2003/data_for_RAG)\n",
    "- 使用模型(使用Microsoft開源的intfloat/multilingual-e5-large)\n",
    "- 模型大約要2.24GB"
   ]
  },
  {
   "cell_type": "code",
   "execution_count": 2,
   "id": "2df47a62",
   "metadata": {},
   "outputs": [],
   "source": [
    "import torch\n",
    "import numpy as np\n",
    "from transformers import AutoTokenizer, AutoModel\n",
    "import pandas as pd\n",
    "from datasets import load_dataset\n",
    "\n",
    "class DocumentSearch:\n",
    "    def __init__(self):\n",
    "        self.tokenizer = AutoTokenizer.from_pretrained('intfloat/multilingual-e5-large')\n",
    "        self.model = AutoModel.from_pretrained('intfloat/multilingual-e5-large')\n",
    "        self.device = torch.device('cuda' if torch.cuda.is_available() else 'cpu')\n",
    "        self.model.to(self.device)\n",
    "\n",
    "    def get_embedding(self, text, is_query=False):\n",
    "        #增加前綴文字\n",
    "        if is_query:\n",
    "            text = f\"query:{text}\"\n",
    "        else:\n",
    "            text = f\"passage:{text}\"\n",
    "        \n",
    "        #編碼文本\n",
    "        inputs = self.tokenizer(text, padding=True, truncation=True, max_length=512, return_tensors='pt')\n",
    "        inputs = {k: v.to(self.device) for k, v in inputs.items()}\n",
    "        \n",
    "\n",
    "        #獲取嵌入向量\n",
    "        with torch.no_grad():\n",
    "            outputs = self.model(**inputs)\n",
    "            #如果依據測試檢索能力的寫法是\n",
    "            #embeddings = outputs.last_hidden_state.mean(dim=1)\n",
    "            #但這種方法會比較好,看下面的說明1,2\n",
    "            embeddings = outputs.last_hidden_state[:, 0, :] #使用[CLS]token的輸出#[CLS]標記通常被用來表示整個句子的語義\n",
    "            embeddings = torch.nn.functional.normalize(embeddings, p=2, dim=1)\n",
    "        return embeddings.cpu().numpy()[0] #請看說明3\n",
    "\n",
    "    def create_document_embeddings(self, df):\n",
    "        \"\"\"為輸入的dataFrame建立嵌入向量\"\"\"\n",
    "        embeddings = []\n",
    "        for _, row in df.iterrows():\n",
    "            #組合Title和Text欄位\n",
    "            text = f\"Title:{row['Title']}\\nText:{row['Text']}\"\n",
    "            embedding = self.get_embedding(text, is_query=False)\n",
    "            embeddings.append(embedding)\n",
    "        return embeddings\n",
    "    \n",
    "    def find_best_passage(self, query, df):\n",
    "        \"\"\"查載最相關的文本\"\"\"\n",
    "        query_embedding = self.get_embedding(query, is_query=True)\n",
    "\n",
    "        #計算相似度\n",
    "        similarities = np.dot(np.stack(df['Embeddings'].values), query_embedding)#請看說明4\n",
    "\n",
    "        #傳回最相關的文檔\n",
    "        best_idx = np.argmax(similarities)\n",
    "        return df.iloc[best_idx]['Text'], similarities[best_idx]"
   ]
  },
  {
   "cell_type": "code",
   "execution_count": 8,
   "id": "1d4b6e5e",
   "metadata": {},
   "outputs": [],
   "source": [
    "doc_search = DocumentSearch()\n",
    "\n",
    "# 準備數據\n",
    "datasets = load_dataset('roberthsu2003/data_for_RAG')\n",
    "df = pd.DataFrame(datasets['train'])\n",
    "df.columns = ['Title','Text']\n",
    "# 生成嵌入向量\n",
    "df['Embeddings'] = doc_search.create_document_embeddings(df)\n",
    "\n"
   ]
  },
  {
   "cell_type": "code",
   "execution_count": 11,
   "id": "dfa0ca11",
   "metadata": {},
   "outputs": [
    {
     "name": "stdout",
     "output_type": "stream",
     "text": [
      "Query:有多少估USB連接埠\n",
      "最相關的文字是(相似度:0.893):\n",
      "Model 3 共有四個 USB 連接埠。一個 USB-C 在中控台後方置物空間，兩個 USB-C 在中控台後車廂出風口下方，一個 USB-A 在手套箱內。[source: 334]\n"
     ]
    }
   ],
   "source": [
    "# 測試查詢\n",
    "query = \"有多少估USB連接埠\"\n",
    "\n",
    "best_text, similarity = doc_search.find_best_passage(query, df)\n",
    "print(f\"Query:{query}\")\n",
    "print(f\"最相關的文字是(相似度:{similarity:.3f}):\")\n",
    "print(best_text)"
   ]
  }
 ],
 "metadata": {
  "kernelspec": {
   "display_name": "base",
   "language": "python",
   "name": "python3"
  },
  "language_info": {
   "codemirror_mode": {
    "name": "ipython",
    "version": 3
   },
   "file_extension": ".py",
   "mimetype": "text/x-python",
   "name": "python",
   "nbconvert_exporter": "python",
   "pygments_lexer": "ipython3",
   "version": "3.12.2"
  }
 },
 "nbformat": 4,
 "nbformat_minor": 5
}
