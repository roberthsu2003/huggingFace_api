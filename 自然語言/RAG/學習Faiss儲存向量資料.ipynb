{
 "cells": [
  {
   "cell_type": "markdown",
   "id": "ce02fb40",
   "metadata": {},
   "source": [
    "**Faiss 是 Facebook AI Search 釋出的開源程式庫，不算是資料庫，概念是針對向量建立索引並進行高效率搜索。**"
   ]
  },
  {
   "cell_type": "markdown",
   "id": "eb3a7c92",
   "metadata": {},
   "source": [
    "**Faiss的安裝,一般使用cpu版本就足夠**\n",
    "```\n",
    "pip install faiss-cpu\n",
    "pip install faiss-gpu\n",
    "```"
   ]
  },
  {
   "cell_type": "markdown",
   "id": "a6e6eb53",
   "metadata": {},
   "source": [
    "### Step1 載入和準備數據集"
   ]
  },
  {
   "cell_type": "code",
   "execution_count": 47,
   "id": "a3ef99d6",
   "metadata": {},
   "outputs": [],
   "source": [
    "from datasets import load_dataset\n",
    "dataset = load_dataset('roberthsu2003/data_for_RAG',split='train')\n",
    "#增加一個columns,`text`\n",
    "dataset = dataset.map(lambda x:{'text':\n",
    "                      'passage:' + x['question'] + '\\n' + x['answering']\n",
    "                      })"
   ]
  },
  {
   "cell_type": "code",
   "execution_count": 48,
   "id": "aaa243bb",
   "metadata": {},
   "outputs": [],
   "source": [
    "from transformers import AutoTokenizer, AutoModel\n",
    "tokenizer = AutoTokenizer.from_pretrained('intfloat/multilingual-e5-large')\n",
    "model = AutoModel.from_pretrained('intfloat/multilingual-e5-large')"
   ]
  },
  {
   "cell_type": "code",
   "execution_count": 49,
   "id": "a4a5b23d",
   "metadata": {},
   "outputs": [
    {
     "data": {
      "text/plain": [
       "device(type='cpu')"
      ]
     },
     "execution_count": 49,
     "metadata": {},
     "output_type": "execute_result"
    }
   ],
   "source": [
    "#將modle,設定至cpu或gpu上執行\n",
    "import torch\n",
    "device = torch.device('cuda' if torch.cuda.is_available() else 'cpu')\n",
    "model.device"
   ]
  },
  {
   "cell_type": "code",
   "execution_count": 51,
   "id": "f04d538a",
   "metadata": {},
   "outputs": [],
   "source": [
    "def get_embeddings(text_list):\n",
    "    encoded_input = tokenizer(\n",
    "        text_list, padding=True, truncation=True, return_tensors=\"pt\", max_length=512\n",
    "    )\n",
    "    encoded_input = {k: v.to(device) for k, v in encoded_input.items()}\n",
    "    with torch.no_grad():\n",
    "        model_output = model(**encoded_input)\n",
    "        embeddings = model_output.last_hidden_state[:, 0, :]\n",
    "        #embeddings = torch.nn.functional.normalize(embeddings, p=2, dim=1)\n",
    "    return embeddings"
   ]
  },
  {
   "cell_type": "code",
   "execution_count": 52,
   "id": "c5a36dcf",
   "metadata": {},
   "outputs": [
    {
     "data": {
      "application/vnd.jupyter.widget-view+json": {
       "model_id": "92b71a1b90f34c4fa0fb55aa1d6bdbcb",
       "version_major": 2,
       "version_minor": 0
      },
      "text/plain": [
       "Map:   0%|          | 0/123 [00:00<?, ? examples/s]"
      ]
     },
     "metadata": {},
     "output_type": "display_data"
    }
   ],
   "source": [
    "embedding_dataset = dataset.map(\n",
    "    lambda x:{\"embeddings\":get_embeddings(x['text']).detach().cpu().numpy()[0]}\n",
    ")"
   ]
  },
  {
   "cell_type": "code",
   "execution_count": 53,
   "id": "647c6c67",
   "metadata": {},
   "outputs": [
    {
     "data": {
      "application/vnd.jupyter.widget-view+json": {
       "model_id": "9102361e672e4e3093e53f1d3b137fa8",
       "version_major": 2,
       "version_minor": 0
      },
      "text/plain": [
       "  0%|          | 0/1 [00:00<?, ?it/s]"
      ]
     },
     "metadata": {},
     "output_type": "display_data"
    },
    {
     "data": {
      "text/plain": [
       "Dataset({\n",
       "    features: ['question', 'answering', 'text', 'embeddings'],\n",
       "    num_rows: 123\n",
       "})"
      ]
     },
     "execution_count": 53,
     "metadata": {},
     "output_type": "execute_result"
    }
   ],
   "source": [
    "#使用FAISS進行高效的相似性搜索\n",
    "#Dataset.add_faiss_index()\n",
    "embedding_dataset.add_faiss_index(column=\"embeddings\")"
   ]
  },
  {
   "cell_type": "code",
   "execution_count": 90,
   "id": "4a822313",
   "metadata": {},
   "outputs": [
    {
     "data": {
      "text/plain": [
       "(1, 1024)"
      ]
     },
     "execution_count": 90,
     "metadata": {},
     "output_type": "execute_result"
    }
   ],
   "source": [
    "question = \"充電埠在哪裡？\"\n",
    "question_embedding = get_embeddings([question]).cpu().detach().numpy()\n",
    "question_embedding.shape"
   ]
  },
  {
   "cell_type": "code",
   "execution_count": 91,
   "id": "551f9e96",
   "metadata": {},
   "outputs": [],
   "source": [
    "scores, samples = embedding_dataset.get_nearest_examples(\n",
    "    \"embeddings\", question_embedding, k = 5\n",
    ")"
   ]
  },
  {
   "cell_type": "code",
   "execution_count": 92,
   "id": "3fa472a9",
   "metadata": {},
   "outputs": [],
   "source": [
    "import pandas as pd\n",
    "samples_df = pd.DataFrame.from_dict(samples)\n",
    "samples_df['scores'] = scores\n",
    "samples_df.sort_values('scores', ascending=True, inplace=True)"
   ]
  },
  {
   "cell_type": "code",
   "execution_count": 93,
   "id": "3b54e070",
   "metadata": {},
   "outputs": [
    {
     "name": "stdout",
     "output_type": "stream",
     "text": [
      "question: {'Model 3 的充電埠在哪裡？'}\n",
      "answering: {'充電埠位於車輛左後方，整合在尾燈組的一個蓋板後面。[source: 327]'}\n",
      "score: {238.14675903320312}\n",
      "==================================================\n",
      "\n",
      "question: {'如何使用 Model 3 的無線手機充電器？'}\n",
      "answering: {'將支援 Qi 功能的手機放置在前中控台的兩個充電板之一即可充電。手機需直接接觸充電板，充電前請移除手機與充電器間的任何物體（金屬、NFC 卡等）。[source: 334]'}\n",
      "score: {298.406982421875}\n",
      "==================================================\n",
      "\n",
      "question: {'哪個 USB 連接埠最適合用於儲存哨兵模式和行車記錄器影像？'}\n",
      "answering: {'位於手套箱內的 USB-A 連接埠最適合儲存哨兵模式和行車記錄器影像，因為位置較安全。[source: 334]'}\n",
      "score: {302.7074279785156}\n",
      "==================================================\n",
      "\n",
      "question: {'Model 3 有多少個 USB 連接埠？分別在哪裡？'}\n",
      "answering: {'Model 3 共有四個 USB 連接埠。一個 USB-C 在中控台後方置物空間，兩個 USB-C 在中控台後車廂出風口下方，一個 USB-A 在手套箱內。[source: 334]'}\n",
      "score: {306.719482421875}\n",
      "==================================================\n",
      "\n",
      "question: {'如何使用卡片鑰匙解鎖或上鎖 Model 3？'}\n",
      "answering: {'將卡片鑰匙放置在駕駛座側門柱 B 柱上大約三分之一位置的讀卡機感應。聽到提示音、看到車燈閃爍或後視鏡動作，即表示完成上鎖或解鎖。[source: 342]'}\n",
      "score: {313.57861328125}\n",
      "==================================================\n",
      "\n"
     ]
    }
   ],
   "source": [
    "for _, row in samples_df.iterrows():\n",
    "    print(f\"question:\",{row.question})\n",
    "    print(f\"answering:\",{row.answering})\n",
    "    print('score:',{row.scores})\n",
    "    print(\"=\"*50)\n",
    "    print()"
   ]
  }
 ],
 "metadata": {
  "kernelspec": {
   "display_name": "base",
   "language": "python",
   "name": "python3"
  },
  "language_info": {
   "codemirror_mode": {
    "name": "ipython",
    "version": 3
   },
   "file_extension": ".py",
   "mimetype": "text/x-python",
   "name": "python",
   "nbconvert_exporter": "python",
   "pygments_lexer": "ipython3",
   "version": "3.12.2"
  }
 },
 "nbformat": 4,
 "nbformat_minor": 5
}
