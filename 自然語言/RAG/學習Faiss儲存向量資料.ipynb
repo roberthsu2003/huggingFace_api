{
 "cells": [
  {
   "cell_type": "markdown",
   "id": "ce02fb40",
   "metadata": {},
   "source": [
    "**Faiss 是 Facebook AI Search 釋出的開源程式庫，不算是資料庫，概念是針對向量建立索引並進行高效率搜索。**"
   ]
  },
  {
   "cell_type": "markdown",
   "id": "082dbb16",
   "metadata": {},
   "source": [
    "**HuggingFace的Dataset本身有支援Faiss(如下範例)**  \n",
    "**Faiss 使用向量間的距離（通常是歐氏距離）來衡量相似度**"
   ]
  },
  {
   "cell_type": "markdown",
   "id": "eb3a7c92",
   "metadata": {},
   "source": [
    "**Faiss的安裝,一般使用cpu版本就足夠**\n",
    "```\n",
    "pip install faiss-cpu\n",
    "pip install faiss-gpu\n",
    "```"
   ]
  },
  {
   "cell_type": "markdown",
   "id": "a6e6eb53",
   "metadata": {},
   "source": [
    "### Step1 載入和準備數據集"
   ]
  },
  {
   "cell_type": "code",
   "execution_count": null,
   "id": "a3ef99d6",
   "metadata": {},
   "outputs": [
    {
     "data": {
      "text/plain": [
       "{'question': ['如何查看 Model 3 最新的車主手冊資訊？'],\n",
       " 'answering': ['您可以透過輕觸車輛觸控螢幕上的應用程式啟動工具，並選取「手冊」應用程式來查看最新且專屬於您車輛的車主手冊。[source: 309]'],\n",
       " 'text': ['passage:如何查看 Model 3 最新的車主手冊資訊？\\n您可以透過輕觸車輛觸控螢幕上的應用程式啟動工具，並選取「手冊」應用程式來查看最新且專屬於您車輛的車主手冊。[source: 309]']}"
      ]
     },
     "execution_count": 12,
     "metadata": {},
     "output_type": "execute_result"
    }
   ],
   "source": [
    "from datasets import load_dataset\n",
    "dataset = load_dataset('roberthsu2003/data_for_RAG',split='train')\n",
    "#增加一個columns,`text`,目的為組合question和answering內的文字,前綴加上`passage:`是RoBERTa類型的模形建議的\n",
    "dataset = dataset.map(lambda x:{'text':\n",
    "                      'passage:' + x['question'] + '\\n' + x['answering']\n",
    "                      })\n",
    "dataset[:1]"
   ]
  },
  {
   "cell_type": "markdown",
   "id": "5620d425",
   "metadata": {},
   "source": [
    "### Step2 載入分詞器和模型"
   ]
  },
  {
   "cell_type": "code",
   "execution_count": 3,
   "id": "aaa243bb",
   "metadata": {},
   "outputs": [],
   "source": [
    "from transformers import AutoTokenizer, AutoModel\n",
    "tokenizer = AutoTokenizer.from_pretrained('intfloat/multilingual-e5-large')\n",
    "model = AutoModel.from_pretrained('intfloat/multilingual-e5-large')"
   ]
  },
  {
   "cell_type": "code",
   "execution_count": 7,
   "id": "a4a5b23d",
   "metadata": {},
   "outputs": [
    {
     "data": {
      "text/plain": [
       "device(type='cpu')"
      ]
     },
     "execution_count": 7,
     "metadata": {},
     "output_type": "execute_result"
    }
   ],
   "source": [
    "#將modle,設定至cpu或gpu上執行\n",
    "import torch\n",
    "device = torch.device('cuda' if torch.cuda.is_available() else 'cpu')\n",
    "model.to(device)\n",
    "model.device"
   ]
  },
  {
   "cell_type": "markdown",
   "id": "5c9f8057",
   "metadata": {},
   "source": [
    "### Step3 取出embedding(嵌入)"
   ]
  },
  {
   "cell_type": "code",
   "execution_count": 29,
   "id": "f04d538a",
   "metadata": {},
   "outputs": [],
   "source": [
    "def get_embeddings(text_list):\n",
    "    \"\"\"text_list的型別是字串\"\"\"\n",
    "    encoded_input = tokenizer(\n",
    "        text_list, padding=True, truncation=True, return_tensors=\"pt\", max_length=512\n",
    "    ) #encoded_input的型別是BatchEncoding\n",
    "    encoded_input = {k: v.to(device) for k, v in encoded_input.items()} #將input_ids和attention_mask內的值(tensor),使用cpu或gpu做運算\n",
    "    with torch.no_grad(): #使用model時不要做梯度運算\n",
    "        model_output = model(**encoded_input) #BaseModelOutputWithPoolingAndCrossAttentions\n",
    "        #model_output.last_hidden_state的Tensor,shape是([1,58,1024]),[batch_size, sequence_length, hidden_size]\n",
    "        embeddings = model_output.last_hidden_state[:, 0, :]\n",
    "        # [:, 0, :] 這個切片操作代表：\n",
    "        # 第一個 : : 選取所有batch\n",
    "        # 0 : 只取第一個token位置(即[CLS]標記)\n",
    "        # 最後的 : : 選取所有hidden維度\n",
    "        # [CLS]標記通常被用來表示整個句子的語義\n",
    "        # 取出的維度變為[1,1024]\n",
    "    return embeddings"
   ]
  },
  {
   "cell_type": "code",
   "execution_count": 39,
   "id": "c5a36dcf",
   "metadata": {},
   "outputs": [],
   "source": [
    "#請參考-說明1和說明2\n",
    "\n",
    "embedding_dataset = dataset.map(\n",
    "    lambda x:{\"embeddings\":get_embeddings(x['text']).detach().cpu().numpy()[0]} #最後傳出得ndarray,shape是(1024,)\n",
    ")\n",
    "\n",
    "\n",
    "#測試用\n",
    "# embedding_dataset = dataset.map(\n",
    "#     lambda x:print(get_embeddings(x['text']).detach().cpu().numpy()[0])\n",
    "# )\n"
   ]
  },
  {
   "cell_type": "code",
   "execution_count": 40,
   "id": "647c6c67",
   "metadata": {},
   "outputs": [
    {
     "data": {
      "application/vnd.jupyter.widget-view+json": {
       "model_id": "d2bef705bd1c44349929951470574f53",
       "version_major": 2,
       "version_minor": 0
      },
      "text/plain": [
       "  0%|          | 0/1 [00:00<?, ?it/s]"
      ]
     },
     "metadata": {},
     "output_type": "display_data"
    },
    {
     "data": {
      "text/plain": [
       "Dataset({\n",
       "    features: ['question', 'answering', 'text', 'embeddings'],\n",
       "    num_rows: 123\n",
       "})"
      ]
     },
     "execution_count": 40,
     "metadata": {},
     "output_type": "execute_result"
    }
   ],
   "source": [
    "#使用FAISS進行高效的相似性搜索\n",
    "#Dataset.add_faiss_index()\n",
    "#說明3\n",
    "embedding_dataset.add_faiss_index(column=\"embeddings\")"
   ]
  },
  {
   "cell_type": "code",
   "execution_count": null,
   "id": "4a822313",
   "metadata": {},
   "outputs": [
    {
     "data": {
      "text/plain": [
       "(1, 1024)"
      ]
     },
     "execution_count": 41,
     "metadata": {},
     "output_type": "execute_result"
    }
   ],
   "source": [
    "#說明4\n",
    "question = \"充電埠在哪裡？\"\n",
    "question = \"query:\" + question\n",
    "question_embedding = get_embeddings([question]).cpu().detach().numpy()\n",
    "question_embedding.shape"
   ]
  },
  {
   "cell_type": "code",
   "execution_count": 45,
   "id": "551f9e96",
   "metadata": {},
   "outputs": [],
   "source": [
    "#scores是ndarray\n",
    "#samples是dict\n",
    "scores, samples = embedding_dataset.get_nearest_examples(\n",
    "    \"embeddings\", question_embedding, k = 5\n",
    ")\n"
   ]
  },
  {
   "cell_type": "code",
   "execution_count": 46,
   "id": "3fa472a9",
   "metadata": {},
   "outputs": [],
   "source": [
    "import pandas as pd\n",
    "samples_df = pd.DataFrame.from_dict(samples)\n",
    "samples_df['scores'] = scores\n",
    "samples_df.sort_values('scores', ascending=True, inplace=True)"
   ]
  },
  {
   "cell_type": "code",
   "execution_count": 47,
   "id": "3b54e070",
   "metadata": {},
   "outputs": [
    {
     "name": "stdout",
     "output_type": "stream",
     "text": [
      "question: {'Model 3 的充電埠在哪裡？'}\n",
      "answering: {'充電埠位於車輛左後方，整合在尾燈組的一個蓋板後面。[source: 327]'}\n",
      "score: {197.45962524414062}\n",
      "==================================================\n",
      "\n",
      "question: {'如何使用 Model 3 的無線手機充電器？'}\n",
      "answering: {'將支援 Qi 功能的手機放置在前中控台的兩個充電板之一即可充電。手機需直接接觸充電板，充電前請移除手機與充電器間的任何物體（金屬、NFC 卡等）。[source: 334]'}\n",
      "score: {254.12985229492188}\n",
      "==================================================\n",
      "\n",
      "question: {'Model 3 有多少個 USB 連接埠？分別在哪裡？'}\n",
      "answering: {'Model 3 共有四個 USB 連接埠。一個 USB-C 在中控台後方置物空間，兩個 USB-C 在中控台後車廂出風口下方，一個 USB-A 在手套箱內。[source: 334]'}\n",
      "score: {254.5594024658203}\n",
      "==================================================\n",
      "\n",
      "question: {'哪個 USB 連接埠最適合用於儲存哨兵模式和行車記錄器影像？'}\n",
      "answering: {'位於手套箱內的 USB-A 連接埠最適合儲存哨兵模式和行車記錄器影像，因為位置較安全。[source: 334]'}\n",
      "score: {261.5010986328125}\n",
      "==================================================\n",
      "\n",
      "question: {'Model 3 的低電壓電源插座在哪裡？其供電限制為何？'}\n",
      "answering: {'低電壓電源插座位於中控置物台的置物空間中。該插座適用於需要持續電流高達 12A（峰值 16A）的配件。[source: 335]'}\n",
      "score: {270.1339111328125}\n",
      "==================================================\n",
      "\n"
     ]
    }
   ],
   "source": [
    "for _, row in samples_df.iterrows(): #請參考說明5\n",
    "    print(f\"question:\",{row.question})\n",
    "    print(f\"answering:\",{row.answering})\n",
    "    print('score:',{row.scores})\n",
    "    print(\"=\"*50)\n",
    "    print()"
   ]
  },
  {
   "cell_type": "markdown",
   "id": "389d05bf",
   "metadata": {},
   "source": [
    "# 說明1\n",
    "\n",
    "### 1. 主要目的\n",
    "這段程式碼是在將文字轉換成數值向量（embedding），並將這些向量儲存到dataset中的新欄位。\n",
    "\n",
    "### 2. 程式碼解析\n"
   ]
  },
  {
   "cell_type": "code",
   "execution_count": null,
   "id": "e0bc4c0e",
   "metadata": {},
   "outputs": [],
   "source": [
    "embedding_dataset = dataset.map(\n",
    "    lambda x:{\"embeddings\":get_embeddings(x['text']).detach().cpu().numpy()[0]}\n",
    ")"
   ]
  },
  {
   "cell_type": "markdown",
   "id": "877e445c",
   "metadata": {},
   "source": [
    "- `dataset.map()`: 對dataset中的每一筆資料進行轉換\n",
    "- `lambda x`: 匿名函數，`x`代表dataset中的每一筆資料\n",
    "- `get_embeddings(x['text'])`: \n",
    "  - 將每筆資料中的'text'欄位轉換成向量\n",
    "  - 回傳的是PyTorch tensor\n",
    "\n",
    "### 3. 資料處理步驟\n",
    "1. `.detach()`: 從計算圖中分離，不需要保留梯度\n",
    "2. `.cpu()`: 將tensor移到CPU上\n",
    "3. `.numpy()`: 將tensor轉換成numpy陣列\n",
    "4. `[0]`: 取出第一個維度（因為get_embeddings返回的是batch形式）\n",
    "\n",
    "### 4. 結果\n",
    "- 在dataset中新增了一個名為\"embeddings\"的欄位\n",
    "- 每一筆資料的\"embeddings\"欄位都包含了對應文字的向量表示\n",
    "- 這些向量可以用來進行相似度比較\n",
    "\n",
    "這樣處理後的資料，就可以用於後續的FAISS索引建立和相似度搜尋。"
   ]
  },
  {
   "cell_type": "markdown",
   "id": "2a482570",
   "metadata": {},
   "source": [
    "# 說明2\n",
    "\n",
    "在 PyTorch 中，你可以通過以下幾種方式來檢查 Tensor 的相關資訊：\n",
    "\n",
    "### 1. 檢查是否有梯度（Gradient）\n"
   ]
  },
  {
   "cell_type": "code",
   "execution_count": null,
   "id": "1da59b0d",
   "metadata": {},
   "outputs": [],
   "source": [
    "tensor = torch.tensor([1.0, 2.0, 3.0], requires_grad=True)\n",
    "\n",
    "# 檢查是否需要梯度計算\n",
    "print(tensor.requires_grad)  # True\n",
    "\n",
    "# 檢查是否有梯度\n",
    "print(tensor.grad is not None)  # False（還沒有進行反向傳播）"
   ]
  },
  {
   "cell_type": "markdown",
   "id": "d5272638",
   "metadata": {},
   "source": [
    "\n",
    "\n",
    "### 2. 檢查裝置（Device）位置\n"
   ]
  },
  {
   "cell_type": "code",
   "execution_count": null,
   "id": "94af52f4",
   "metadata": {},
   "outputs": [],
   "source": [
    "# 檢查tensor在哪個裝置上\n",
    "print(tensor.device)  # 會顯示 'cpu' 或 'cuda:0' 等\n",
    "\n",
    "# 檢查是否在 GPU 上\n",
    "print(tensor.is_cuda)  # True 或 False"
   ]
  },
  {
   "cell_type": "markdown",
   "id": "62b9a312",
   "metadata": {},
   "source": [
    "\n",
    "\n",
    "### 3. 實際範例\n"
   ]
  },
  {
   "cell_type": "code",
   "execution_count": null,
   "id": "7fdbd586",
   "metadata": {},
   "outputs": [],
   "source": [
    "# 創建一個需要梯度的 tensor\n",
    "x = torch.tensor([1.0, 2.0], requires_grad=True)\n",
    "print(f\"需要梯度計算: {x.requires_grad}\")  # True\n",
    "print(f\"所在裝置: {x.device}\")  # cpu\n",
    "\n",
    "# 移到 GPU（如果有的話）\n",
    "if torch.cuda.is_available():\n",
    "    x = x.cuda()\n",
    "    print(f\"移動後的裝置: {x.device}\")  # cuda:0\n",
    "\n",
    "# 分離梯度\n",
    "y = x.detach()\n",
    "print(f\"分離後是否需要梯度: {y.requires_grad}\")  # False"
   ]
  },
  {
   "cell_type": "markdown",
   "id": "99bb864e",
   "metadata": {},
   "source": [
    "\n",
    "\n",
    "### 4. 常見操作說明\n",
    "- `tensor.requires_grad`: 檢查是否需要梯度計算\n",
    "- `tensor.device`: 檢查tensor所在的裝置\n",
    "- `tensor.is_cuda`: 檢查是否在 GPU 上\n",
    "- `tensor.detach()`: 創建一個新的tensor，但不會有梯度計算\n",
    "- `tensor.to(device)`: 將tensor移動到指定裝置\n",
    "\n",
    "這些方法可以幫助你確認tensor的狀態和位置。"
   ]
  },
  {
   "cell_type": "markdown",
   "id": "7d4470aa",
   "metadata": {},
   "source": [
    "# 說明3\n",
    "\n",
    "### 主要功能\n",
    "這行程式碼是在 dataset 中建立 FAISS 索引，具體來說：\n",
    "\n",
    "1. **建立索引**\n",
    "- 對 dataset 中的 \"embeddings\" 欄位建立向量索引\n",
    "- 這些 embeddings 是之前透過模型轉換得到的向量\n",
    "- 索引的目的是加速後續的相似度搜尋\n",
    "\n",
    "2. **技術細節**\n",
    "- FAISS 會自動選擇適合的索引類型\n",
    "- 預設使用 L2 距離（歐氏距離）來計算向量間的相似度\n",
    "- 索引建立後會自動優化搜尋結構\n",
    "\n",
    "### 實際應用\n"
   ]
  },
  {
   "cell_type": "code",
   "execution_count": null,
   "id": "a7341919",
   "metadata": {},
   "outputs": [],
   "source": [
    "# 建立索引後，可以使用 get_nearest_examples() 進行快速搜尋\n",
    "scores, samples = embedding_dataset.get_nearest_examples(\n",
    "    \"embeddings\",  # 使用哪個欄位的向量\n",
    "    question_embedding,  # 搜尋的目標向量\n",
    "    k = 5  # 要找出最相似的 5 筆資料\n",
    ")"
   ]
  },
  {
   "cell_type": "markdown",
   "id": "bde24f3f",
   "metadata": {},
   "source": [
    "\n",
    "\n",
    "### 效能優勢\n",
    "- 不需要逐一比較所有向量\n",
    "- 透過索引結構快速找到相似向量\n",
    "- 特別適合大規模資料集的相似度搜尋\n",
    "- 可以處理高維度向量資料\n",
    "\n",
    "這就是為什麼 FAISS 被廣泛應用在向量搜尋任務中的原因。"
   ]
  },
  {
   "cell_type": "markdown",
   "id": "e49bcb33",
   "metadata": {},
   "source": [
    "# 說明4\n",
    "\n",
    "### 1. 步驟分解\n"
   ]
  },
  {
   "cell_type": "code",
   "execution_count": null,
   "id": "8cdba15f",
   "metadata": {},
   "outputs": [],
   "source": [
    "question = \"充電埠在哪裡？\"\n",
    "question = \"query:\" + question  # 加上查詢前綴"
   ]
  },
  {
   "cell_type": "markdown",
   "id": "67e5cd23",
   "metadata": {},
   "source": [
    "\n",
    "\n",
    "接著進行向量轉換：\n"
   ]
  },
  {
   "cell_type": "code",
   "execution_count": null,
   "id": "26ae1fc9",
   "metadata": {},
   "outputs": [],
   "source": [
    "question_embedding = get_embeddings([question]).cpu().detach().numpy()"
   ]
  },
  {
   "cell_type": "markdown",
   "id": "927ca7c5",
   "metadata": {},
   "source": [
    "\n",
    "\n",
    "### 2. 維度說明\n",
    "- `get_embeddings([question])` 回傳的是一個 shape 為 `[1,1024]` 的 tensor \n",
    "  - 1: batch size (因為只有一個問題)\n",
    "  - 1024: 向量維度\n",
    "- 當使用 `.numpy()` 時，維持了原本的 2D 維度結構\n",
    "- 這與之前的處理不同：\n",
    "  ```python\n",
    "  get_embeddings(x['text']).detach().cpu().numpy()[0]  # 之前的程式碼\n",
    "  ```\n",
    "  這裡的 `[0]` 是為了取出第一個維度，得到 1D array (1024,)\n",
    "\n",
    "### 3. 為什麼保持 2D\n",
    "- FAISS 的 `get_nearest_examples()` 需要 2D numpy array 作為輸入\n",
    "- 這符合批次處理的標準格式\n",
    "- shape (1,1024) 表示：\n",
    "  - 1 個查詢\n",
    "  - 每個查詢是 1024 維的向量\n",
    "\n",
    "所以這裡不需要 `[0]`，因為我們需要保持矩陣的 2D 結構以符合 FAISS 的輸入要求。"
   ]
  },
  {
   "cell_type": "markdown",
   "id": "9bd71723",
   "metadata": {},
   "source": [
    "# 說明5\n",
    "\n",
    "在這個範例中，score 分數較低代表較好的答案，原因如下：\n",
    "\n",
    "1. **距離計算原理**\n",
    "- Faiss 使用向量間的距離（通常是歐氏距離）來衡量相似度\n",
    "- 距離越小，表示兩個向量越接近，也就是內容越相似\n",
    "- 在程式碼中的 `get_nearest_examples()` 方法回傳的 scores 即為這個距離值\n",
    "\n",
    "2. **相似度與距離的關係**\n"
   ]
  },
  {
   "cell_type": "code",
   "execution_count": null,
   "id": "a8f1c8f3",
   "metadata": {},
   "outputs": [],
   "source": [
    "較相似 = 距離較小 = scores 較低\n",
    "較不相似 = 距離較大 = scores 較高"
   ]
  },
  {
   "cell_type": "markdown",
   "id": "13630b5f",
   "metadata": {},
   "source": [
    "\n",
    "\n",
    "3. **程式碼中的排序**\n"
   ]
  },
  {
   "cell_type": "code",
   "execution_count": null,
   "id": "d7d701d7",
   "metadata": {},
   "outputs": [],
   "source": [
    "samples_df.sort_values('scores', ascending=True, inplace=True)"
   ]
  },
  {
   "cell_type": "markdown",
   "id": "8d938bcd",
   "metadata": {},
   "source": [
    "- `ascending=True` 表示按照分數從小到大排序\n",
    "- 這樣最相關的結果（距離最小的）會先顯示\n",
    "\n",
    "4. **補充說明**\n",
    "- 如果想要轉換成較直觀的相似度分數（越高越相似），可以：\n",
    "  - 將距離轉換成相似度分數（例如使用餘弦相似度）\n",
    "  - 或是將現有的距離分數做反向轉換（例如 1/distance 或 -distance）\n",
    "\n",
    "這就是為什麼在結果中，較低的 score 反而代表較好的匹配結果。"
   ]
  }
 ],
 "metadata": {
  "kernelspec": {
   "display_name": "base",
   "language": "python",
   "name": "python3"
  },
  "language_info": {
   "codemirror_mode": {
    "name": "ipython",
    "version": 3
   },
   "file_extension": ".py",
   "mimetype": "text/x-python",
   "name": "python",
   "nbconvert_exporter": "python",
   "pygments_lexer": "ipython3",
   "version": "3.12.2"
  }
 },
 "nbformat": 4,
 "nbformat_minor": 5
}
