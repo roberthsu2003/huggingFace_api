{
 "cells": [
  {
   "cell_type": "markdown",
   "id": "ce02fb40",
   "metadata": {},
   "source": [
    "**Faiss 是 Facebook AI Search 釋出的開源程式庫，不算是資料庫，概念是針對向量建立索引並進行高效率搜索。**"
   ]
  },
  {
   "cell_type": "markdown",
   "id": "eb3a7c92",
   "metadata": {},
   "source": [
    "**Faise的安裝,一般使用cpu版本就足夠**\n",
    "```\n",
    "pip install faiss-cpu\n",
    "pip install faiss-gpu\n",
    "```"
   ]
  },
  {
   "cell_type": "code",
   "execution_count": null,
   "id": "da548009",
   "metadata": {},
   "outputs": [],
   "source": []
  }
 ],
 "metadata": {
  "kernelspec": {
   "display_name": "base",
   "language": "python",
   "name": "python3"
  },
  "language_info": {
   "name": "python",
   "version": "3.12.2"
  }
 },
 "nbformat": 4,
 "nbformat_minor": 5
}
