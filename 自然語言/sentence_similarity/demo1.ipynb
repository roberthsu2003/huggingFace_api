{
 "cells": [
  {
   "cell_type": "markdown",
   "id": "ce42f59f",
   "metadata": {},
   "source": [
    "## 文本相似"
   ]
  },
  {
   "cell_type": "code",
   "execution_count": 1,
   "id": "e3857de0",
   "metadata": {},
   "outputs": [
    {
     "data": {
      "application/vnd.jupyter.widget-view+json": {
       "model_id": "866001b98c2649c38da561235a53818f",
       "version_major": 2,
       "version_minor": 0
      },
      "text/plain": [
       "config.json:   0%|          | 0.00/919 [00:00<?, ?B/s]"
      ]
     },
     "metadata": {},
     "output_type": "display_data"
    },
    {
     "data": {
      "application/vnd.jupyter.widget-view+json": {
       "model_id": "0905466cfd8c4264b1012d128a389e15",
       "version_major": 2,
       "version_minor": 0
      },
      "text/plain": [
       "model.safetensors:   0%|          | 0.00/409M [00:00<?, ?B/s]"
      ]
     },
     "metadata": {},
     "output_type": "display_data"
    },
    {
     "data": {
      "application/vnd.jupyter.widget-view+json": {
       "model_id": "2a446b9a881e4a11b9be53d162f5e3df",
       "version_major": 2,
       "version_minor": 0
      },
      "text/plain": [
       "tokenizer.json:   0%|          | 0.00/439k [00:00<?, ?B/s]"
      ]
     },
     "metadata": {},
     "output_type": "display_data"
    },
    {
     "name": "stderr",
     "output_type": "stream",
     "text": [
      "Device set to use cpu\n"
     ]
    }
   ],
   "source": [
    "# Use a pipeline as a high-level helper\n",
    "from transformers import pipeline\n",
    "\n",
    "pipe = pipeline(\"text-classification\", model=\"roberthsu2003/sentence_similarity\")"
   ]
  },
  {
   "cell_type": "markdown",
   "id": "5b8f842a",
   "metadata": {},
   "source": [
    "### 預測模型"
   ]
  },
  {
   "cell_type": "code",
   "execution_count": 3,
   "id": "6d6573db",
   "metadata": {},
   "outputs": [
    {
     "data": {
      "text/plain": [
       "{'label': '相似', 'score': 0.8854433298110962}"
      ]
     },
     "execution_count": 3,
     "metadata": {},
     "output_type": "execute_result"
    }
   ],
   "source": [
    "pipe({\"text\":\"我喜歡台北\", \"text_pair\":\"台北是我喜歡的地方\"})"
   ]
  }
 ],
 "metadata": {
  "kernelspec": {
   "display_name": "base",
   "language": "python",
   "name": "python3"
  },
  "language_info": {
   "codemirror_mode": {
    "name": "ipython",
    "version": 3
   },
   "file_extension": ".py",
   "mimetype": "text/x-python",
   "name": "python",
   "nbconvert_exporter": "python",
   "pygments_lexer": "ipython3",
   "version": "3.12.2"
  }
 },
 "nbformat": 4,
 "nbformat_minor": 5
}
