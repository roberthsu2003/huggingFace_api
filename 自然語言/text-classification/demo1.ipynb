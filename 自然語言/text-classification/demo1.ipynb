{
 "cells": [
  {
   "cell_type": "code",
   "execution_count": 2,
   "metadata": {},
   "outputs": [
    {
     "name": "stderr",
     "output_type": "stream",
     "text": [
      "Device set to use cpu\n"
     ]
    },
    {
     "data": {
      "text/plain": [
       "[{'label': 'positive', 'score': 0.9342427849769592}]"
      ]
     },
     "execution_count": 2,
     "metadata": {},
     "output_type": "execute_result"
    }
   ],
   "source": [
    "from transformers import pipeline\n",
    "\n",
    "distilled_student_sentiment_classifier = pipeline(\n",
    "    model=\"lxyuan/distilbert-base-multilingual-cased-sentiments-student\"\n",
    ")\n",
    "\n",
    "# english\n",
    "distilled_student_sentiment_classifier (\"I love this movie and i would watch it again and again!\")\n",
    "\n",
    "\n",
    "# malay\n",
    "distilled_student_sentiment_classifier(\"Saya suka filem ini dan saya akan menontonnya lagi dan lagi!\")\n",
    "\n",
    "\n",
    "# japanese\n",
    "distilled_student_sentiment_classifier(\"私はこの映画が大好きで、何度も見ます！\")\n",
    "\n"
   ]
  },
  {
   "cell_type": "code",
   "execution_count": 8,
   "metadata": {},
   "outputs": [
    {
     "name": "stderr",
     "output_type": "stream",
     "text": [
      "Device set to use cpu\n"
     ]
    },
    {
     "name": "stdout",
     "output_type": "stream",
     "text": [
      "評比: 負評\n",
      "分數: 0.9129632115364075\n"
     ]
    }
   ],
   "source": [
    "distilled_student_sentiment_classifier = pipeline(\n",
    "    model=\"lxyuan/distilbert-base-multilingual-cased-sentiments-student\"\n",
    ")\n",
    "\n",
    "label2string = {\n",
    "    'positive':'正評',\n",
    "    'negative':'負評'\n",
    "}\n",
    "\n",
    "result = distilled_student_sentiment_classifier(\"飯很不好吃\")\n",
    "print('評比:',label2string[result[0]['label']])\n",
    "print('分數:',result[0]['score'])"
   ]
  }
 ],
 "metadata": {
  "kernelspec": {
   "display_name": "base",
   "language": "python",
   "name": "python3"
  },
  "language_info": {
   "codemirror_mode": {
    "name": "ipython",
    "version": 3
   },
   "file_extension": ".py",
   "mimetype": "text/x-python",
   "name": "python",
   "nbconvert_exporter": "python",
   "pygments_lexer": "ipython3",
   "version": "3.12.2"
  }
 },
 "nbformat": 4,
 "nbformat_minor": 2
}
