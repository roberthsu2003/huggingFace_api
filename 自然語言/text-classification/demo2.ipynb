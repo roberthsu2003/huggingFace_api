{
 "cells": [
  {
   "cell_type": "code",
   "execution_count": null,
   "metadata": {},
   "outputs": [],
   "source": [
    "from transformers import pipeline\n",
    "\n",
    "id2_label = {'LABEL_0':\"負評\",'LABEL_1':\"正評\"}\n",
    "pipe = pipeline('text-classification', model=\"roberthsu2003/for_classification\")\n",
    "\n",
    "sen=\"服務人員都很親切\"\n",
    "print(sen,id2_label[pipe(sen)[0]['label']])\n",
    "\n",
    "sen1=\"服務人員都不親切\"\n",
    "print(sen1,id2_label[pipe(sen1)[0]['label']])"
   ]
  }
 ],
 "metadata": {
  "kernelspec": {
   "display_name": "base",
   "language": "python",
   "name": "python3"
  },
  "language_info": {
   "name": "python",
   "version": "3.12.2"
  }
 },
 "nbformat": 4,
 "nbformat_minor": 2
}
